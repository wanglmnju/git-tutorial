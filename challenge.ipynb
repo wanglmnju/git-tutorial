{
 "cells": [
  {
   "cell_type": "markdown",
   "id": "c071f149",
   "metadata": {},
   "source": [
    "# 1. Easy: ideal number in a range"
   ]
  },
  {
   "cell_type": "markdown",
   "id": "ab79ba9f",
   "metadata": {},
   "source": [
    "\n",
    "an ideal number is a positive interger that has only 3 and 5 as prime factor. Using Python find the number of ideal integers within a given segment [low,high]"
   ]
  },
  {
   "cell_type": "code",
   "execution_count": 11,
   "id": "a35e7712",
   "metadata": {},
   "outputs": [],
   "source": [
    "def countIdealInterger(low,high):\n",
    "    count_x=0\n",
    "    for i in range(high+1):\n",
    "        if 3**i <= high:\n",
    "            count_x+=1\n",
    "        else:\n",
    "            break\n",
    "    print(count_x)\n",
    "    \n",
    "    count_y=0\n",
    "    for j in range(high):\n",
    "        if 5**j <= high:\n",
    "            count_y+=1\n",
    "        else:\n",
    "            break\n",
    "    print(count_y)\n",
    "    \n",
    "    count=0\n",
    "    for i in range(count_x+1):\n",
    "        powerx=3**i\n",
    "        for j in range(count_y+1):\n",
    "            powery=5**j\n",
    "            res=powerx*powery\n",
    "            if res<=high and res>=low:\n",
    "                count+=1\n",
    "    return count"
   ]
  },
  {
   "cell_type": "code",
   "execution_count": 12,
   "id": "f6f145ba",
   "metadata": {},
   "outputs": [
    {
     "name": "stdout",
     "output_type": "stream",
     "text": [
      "3\n",
      "2\n"
     ]
    },
    {
     "data": {
      "text/plain": [
       "4"
      ]
     },
     "execution_count": 12,
     "metadata": {},
     "output_type": "execute_result"
    }
   ],
   "source": [
    "countIdealInterger(0,10)"
   ]
  },
  {
   "cell_type": "markdown",
   "id": "f15592b2",
   "metadata": {},
   "source": [
    "chatGPT"
   ]
  },
  {
   "cell_type": "code",
   "execution_count": 8,
   "id": "d1cfaca4",
   "metadata": {},
   "outputs": [
    {
     "name": "stdout",
     "output_type": "stream",
     "text": [
      "Number of ideal integers between 1 and 10: 4\n"
     ]
    }
   ],
   "source": [
    "def is_ideal_integer(num):\n",
    "    while num % 3 == 0:\n",
    "        num //= 3\n",
    "    while num % 5 == 0:\n",
    "        num //= 5\n",
    "    return num == 1\n",
    "\n",
    "def count_ideal_integers(low, high):\n",
    "    count = 0\n",
    "    for num in range(low, high + 1):\n",
    "        if is_ideal_integer(num):\n",
    "            count += 1\n",
    "    return count\n",
    "\n",
    "# Example usage:\n",
    "low = 1\n",
    "high = 10\n",
    "ideal_count = count_ideal_integers(low, high)\n",
    "print(\"Number of ideal integers between {} and {}: {}\".format(low, high, ideal_count))"
   ]
  },
  {
   "cell_type": "markdown",
   "id": "a1f10ab6",
   "metadata": {},
   "source": [
    "# 2 Balanced Brackets\n",
    "\n",
    "A bracket is considered to be any one of the following characters: (, ), {, }, [, or ].\n",
    "\n",
    "Two brackets are considered to be a matched pair if the an opening bracket (i.e., (, [, or {) occurs to the left of a closing bracket (i.e., ), ], or }) of the exact same type. There are three types of matched pairs of brackets: [], {}, and ().\n",
    "\n",
    "A matching pair of brackets is not balanced if the set of brackets it encloses are not matched. For example, {[(])} is not balanced because the contents in between { and } are not balanced. The pair of square brackets encloses a single, unbalanced opening bracket, (, and the pair of parentheses encloses a single, unbalanced closing square bracket, ].\n",
    "\n",
    "By this logic, we say a sequence of brackets is balanced if the following conditions are met:\n",
    "\n",
    "It contains no unmatched brackets.\n",
    "The subset of brackets enclosed within the confines of a matched pair of brackets is also a matched pair of brackets.\n",
    "Given  strings of brackets, determine whether each sequence of brackets is balanced. If a string is balanced, return YES. Otherwise, return NO."
   ]
  },
  {
   "cell_type": "code",
   "execution_count": 13,
   "id": "04d3e89b",
   "metadata": {},
   "outputs": [],
   "source": [
    "# chatGPT\n",
    "\n",
    "def is_balanced(brackets):\n",
    "    stack = []\n",
    "    matching_brackets = {')': '(', ']': '[', '}': '{'}\n",
    "\n",
    "    for bracket in brackets:\n",
    "        if bracket in '({[':\n",
    "            stack.append(bracket)\n",
    "        else:\n",
    "            if not stack or stack[-1] != matching_brackets[bracket]:\n",
    "                return \"NO\"\n",
    "            stack.pop()\n",
    "\n",
    "    return \"YES\" if not stack else \"NO\""
   ]
  },
  {
   "cell_type": "code",
   "execution_count": 14,
   "id": "96537f15",
   "metadata": {},
   "outputs": [],
   "source": [
    "def isBalanced(s):\n",
    "    if len(s)==1:\n",
    "        return \"NO\"\n",
    "    elif len(s)==0:\n",
    "        return \"YES\"\n",
    "        \n",
    "    \n",
    "    stack=[]\n",
    "    dic={\"{\":\"}\",\"[\":\"]\",\"(\":\")\"}\n",
    "    for i in s:\n",
    "        if i in dic:\n",
    "            stack.append(i)\n",
    "        else:\n",
    "            if not stack:\n",
    "                return \"NO\"\n",
    "            if i==dic[stack[-1]]:\n",
    "                stack.pop()\n",
    "            else:\n",
    "                return \"NO\"\n",
    "    if len(stack)==0:\n",
    "        return \"YES\"\n",
    "    else:\n",
    "        return \"NO\" "
   ]
  },
  {
   "cell_type": "code",
   "execution_count": null,
   "id": "356c152a",
   "metadata": {},
   "outputs": [],
   "source": []
  }
 ],
 "metadata": {
  "kernelspec": {
   "display_name": "Python 3 (ipykernel)",
   "language": "python",
   "name": "python3"
  },
  "language_info": {
   "codemirror_mode": {
    "name": "ipython",
    "version": 3
   },
   "file_extension": ".py",
   "mimetype": "text/x-python",
   "name": "python",
   "nbconvert_exporter": "python",
   "pygments_lexer": "ipython3",
   "version": "3.10.9"
  }
 },
 "nbformat": 4,
 "nbformat_minor": 5
}
